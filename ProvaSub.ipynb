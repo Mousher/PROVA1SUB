{
 "cells": [
  {
   "cell_type": "code",
   "execution_count": 12,
   "id": "f73e0002-6a2f-4562-898b-c305e0981254",
   "metadata": {},
   "outputs": [
    {
     "name": "stdin",
     "output_type": "stream",
     "text": [
      "Informe seu peso em KG:  74\n",
      "Informe sua altura em metros (ex: 1.75):  1.64\n"
     ]
    },
    {
     "name": "stdout",
     "output_type": "stream",
     "text": [
      "Seu IMC é:  27.51 - Classificação: Sobrepeso\n"
     ]
    }
   ],
   "source": [
    "# Exercicio 07 - Cálculo IMC\n",
    "peso = float(input(\"Informe seu peso em KG: \"))\n",
    "altura = float(input(\"Informe sua altura em metros (ex: 1.75): \"))\n",
    "\n",
    "imc = peso / altura**2\n",
    "\n",
    "if imc < 18.5:\n",
    "    print(f\"Seu IMC é: {imc:.2f} - Classificação: Abaixo do peso\")\n",
    "elif 18.5 <= imc < 24.9:\n",
    "    print(f\"Seu IMC é: {imc: .2f} - Classificação: Peso normal\")\n",
    "elif 25.0 <= imc < 29.9:\n",
    "    print(f\"Seu IMC é: {imc: .2f} - Classificação: Sobrepeso\")\n",
    "else:\n",
    "    print(f\"Seu IMC é: {imc: .2f} - Classificação: Obesidade\")\n"
   ]
  },
  {
   "cell_type": "code",
   "execution_count": 19,
   "id": "655ed6e7-e65d-4e6c-85a1-8bc0ac8140c5",
   "metadata": {},
   "outputs": [
    {
     "name": "stdin",
     "output_type": "stream",
     "text": [
      "Informe um número:  7\n"
     ]
    },
    {
     "name": "stdout",
     "output_type": "stream",
     "text": [
      " A soma dos números pares de 0 a 7 é 12.\n"
     ]
    }
   ],
   "source": [
    "# Execicio 8 - Soma dos números pares\n",
    "\n",
    "num = int(input(\"Informe um número: \"))\n",
    "soma = 0\n",
    "numrange = num + 1\n",
    "\n",
    "for i in range( 0,numrange,2):\n",
    "    soma += i\n",
    "\n",
    "print(f\" A soma dos números pares de 0 a {num} é {soma}.\")\n",
    "\n"
   ]
  },
  {
   "cell_type": "code",
   "execution_count": 31,
   "id": "6584bb16-c234-4823-ad03-121cc9332603",
   "metadata": {},
   "outputs": [
    {
     "name": "stdout",
     "output_type": "stream",
     "text": [
      "Jogador 1: 1, Jogador 2: 2 . O Jogaror 2 Venceu!\n"
     ]
    }
   ],
   "source": [
    "# Exercicio 9 - Jogo dados\n",
    "import random\n",
    "\n",
    "dado1 = random.randint(1, 6)\n",
    "dado2 = random.randint(1, 6)\n",
    "\n",
    "\n",
    "if dado1 > dado2:\n",
    "    print(f\"Jogador 1: {dado1}, Jogador 2: {dado2} . O Jogaror 1 Venceu!\")\n",
    "else:\n",
    "    print(f\"Jogador 1: {dado1}, Jogador 2: {dado2} . O Jogaror 2 Venceu!\")\n"
   ]
  },
  {
   "cell_type": "code",
   "execution_count": null,
   "id": "0bbab808-5f6a-46aa-bf47-3d340b14fae7",
   "metadata": {},
   "outputs": [],
   "source": []
  },
  {
   "cell_type": "code",
   "execution_count": null,
   "id": "922afa7c-f5c2-414e-b5bc-3fb2d662cacd",
   "metadata": {},
   "outputs": [],
   "source": []
  }
 ],
 "metadata": {
  "kernelspec": {
   "display_name": "Python 3 (ipykernel)",
   "language": "python",
   "name": "python3"
  },
  "language_info": {
   "codemirror_mode": {
    "name": "ipython",
    "version": 3
   },
   "file_extension": ".py",
   "mimetype": "text/x-python",
   "name": "python",
   "nbconvert_exporter": "python",
   "pygments_lexer": "ipython3",
   "version": "3.12.7"
  }
 },
 "nbformat": 4,
 "nbformat_minor": 5
}
